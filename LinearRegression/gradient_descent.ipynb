{
 "cells": [
  {
   "cell_type": "code",
   "execution_count": 4,
   "id": "2f7bc2fc",
   "metadata": {},
   "outputs": [
    {
     "name": "stdout",
     "output_type": "stream",
     "text": [
      "step: 0, cost: 74.666664, W: 3.133333\n",
      "step: 1, cost: 21.238516, W: 2.137778\n",
      "step: 2, cost: 6.041179, W: 1.606815\n",
      "step: 3, cost: 1.718380, W: 1.323635\n",
      "step: 4, cost: 0.488784, W: 1.172605\n",
      "step: 5, cost: 0.139032, W: 1.092056\n",
      "step: 6, cost: 0.039547, W: 1.049097\n",
      "step: 7, cost: 0.011249, W: 1.026185\n",
      "step: 8, cost: 0.003200, W: 1.013965\n",
      "step: 9, cost: 0.000910, W: 1.007448\n",
      "step: 10, cost: 0.000259, W: 1.003972\n",
      "step: 11, cost: 0.000074, W: 1.002119\n",
      "step: 12, cost: 0.000021, W: 1.001130\n",
      "step: 13, cost: 0.000006, W: 1.000603\n",
      "step: 14, cost: 0.000002, W: 1.000321\n",
      "step: 15, cost: 0.000000, W: 1.000171\n",
      "step: 16, cost: 0.000000, W: 1.000091\n",
      "step: 17, cost: 0.000000, W: 1.000049\n",
      "step: 18, cost: 0.000000, W: 1.000026\n",
      "step: 19, cost: 0.000000, W: 1.000014\n",
      "step: 20, cost: 0.000000, W: 1.000007\n"
     ]
    }
   ],
   "source": [
    "import tensorflow as tf\n",
    "import tensorflow as tf\n",
    "\n",
    "X = [1,2,3]\n",
    "Y = [1,2,3]\n",
    "W = tf.Variable([5.0])\n",
    "\n",
    "learning_rate = 0.1\n",
    "for step in range(21):\n",
    "    hypothesis = W*X\n",
    "    cost = tf.reduce_mean(tf.square(hypothesis- Y))\n",
    "    gradient = tf.reduce_mean((W*X-Y)*X)\n",
    "    descent = W - learning_rate * gradient\n",
    "    W.assign(descent)\n",
    "    print(\"step: %i, cost: %f, W: %f\" % (step, cost, W))"
   ]
  },
  {
   "cell_type": "code",
   "execution_count": null,
   "id": "c7e2be0e",
   "metadata": {},
   "outputs": [],
   "source": []
  }
 ],
 "metadata": {
  "kernelspec": {
   "display_name": "Python 3 (ipykernel)",
   "language": "python",
   "name": "python3"
  },
  "language_info": {
   "codemirror_mode": {
    "name": "ipython",
    "version": 3
   },
   "file_extension": ".py",
   "mimetype": "text/x-python",
   "name": "python",
   "nbconvert_exporter": "python",
   "pygments_lexer": "ipython3",
   "version": "3.9.7"
  }
 },
 "nbformat": 4,
 "nbformat_minor": 5
}
